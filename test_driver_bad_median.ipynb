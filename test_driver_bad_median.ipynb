{
 "cells": [
  {
   "cell_type": "code",
   "execution_count": 3,
   "metadata": {},
   "outputs": [
    {
     "name": "stdout",
     "output_type": "stream",
     "text": [
      "2\n"
     ]
    }
   ],
   "source": [
    "# Quiz:\n",
    "# I previously wrote a function to return the median of a vector \n",
    "# in the module bad_median.py\n",
    "#\n",
    "# My function appears to work with the test data here\n",
    "# but fails in other cases.\n",
    "\n",
    "# (1) Add a new function to bad_median.py, using a text editor\n",
    "# of your choice, called good_median() that works correctly, \n",
    "# and modify the code here to call that version.\n",
    "# (Make sure your function does not modify its argument.)\n",
    "# (2) Modify this code in a text editor so it takes a command-line argument \n",
    "# which is a filename with a vector of data separated by tabs,\n",
    "# and then prints the median to the screen (called \"standard out\").\n",
    "# Usage: python test_driver_good_median.py filename\n",
    "# (3) Five sample data files are given: test_data_n.tsv.\n",
    "# Run your script on the prince cluster using job arrays to process \n",
    "# all five data files in parallel. \n",
    "import bad_median\n",
    "\n",
    "a = [1, 2, 3]\n",
    "\n",
    "m = bad_median.bad_median(a)\n",
    "\n",
    "print(m)\n"
   ]
  },
  {
   "cell_type": "code",
   "execution_count": 2,
   "metadata": {},
   "outputs": [
    {
     "name": "stdout",
     "output_type": "stream",
     "text": [
      "/Users/brianparker/Downloads/quiz_debug(2)\n"
     ]
    }
   ],
   "source": [
    "%cd Downloads/quiz_debug(2)"
   ]
  }
 ],
 "metadata": {
  "kernelspec": {
   "display_name": "Python 3",
   "language": "python",
   "name": "python3"
  },
  "language_info": {
   "codemirror_mode": {
    "name": "ipython",
    "version": 3
   },
   "file_extension": ".py",
   "mimetype": "text/x-python",
   "name": "python",
   "nbconvert_exporter": "python",
   "pygments_lexer": "ipython3",
   "version": "3.7.3"
  }
 },
 "nbformat": 4,
 "nbformat_minor": 4
}
