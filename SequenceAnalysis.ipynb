{
 "cells": [
  {
   "cell_type": "code",
   "execution_count": 1,
   "metadata": {},
   "outputs": [],
   "source": [
    "## PART 1: Calculate the number of nucleotides in the given sequence."
   ]
  },## PART 1: Calculate the number of nucleotides in the given sequence.
   {
   "cell_type": "code",
   "execution_count": 2,
   "metadata": {},
   "outputs": [],
   "source": [
    "sequence = \"ATGTACCACATAGTGATGGAGACGGAGCCATTGAAGCCGCCGGGCCCGCAGCAAACCTTCGGGGGGCGGCGGCGGCAACTCCACCGCGGCATTCGTTAG\""
   ]
  },
  {
   "cell_type": "code",
   "execution_count": 3,
   "metadata": {},
   "outputs": [
    {
     "name": "stdout",
     "output_type": "stream",
     "text": [
      "99\n"
     ]
    }
   ],
   "source": [
    "print(len(sequence)) # The len() function calculates the length of the string"
   ]
  },
  {
   "cell_type": "code",
   "execution_count": 4,
   "metadata": {},
   "outputs": [],
   "source": [
    "# PART 2: Check whether the sequence ends in-frame (i.e. is the length a multiple of 3?)"
   ]
  },
  {
   "cell_type": "code",
   "execution_count": 5,
   "metadata": {},
   "outputs": [
    {
     "name": "stdout",
     "output_type": "stream",
     "text": [
      "Yes, the sequence ends in frame.\n"
     ]
    }
   ],
   "source": [
    "f = (len(sequence) % 3) # Variable f is the remainder of length of sequence when divided by 3\n",
    "'''If fhe remainder is 0 it is True else False\n",
    "The remainder will be zero only when the length of the sequence is divisible by 3\n",
    "If it is divisible by 3 it implies that the sequence ends in a frame.'''\n",
    "if f == 0:\n",
    "    print('Yes, the sequence ends in frame.')\n",
    "else:\n",
    "    print('The sequence does not end in frame.')"
   ]
  },
  {
   "cell_type": "code",
   "execution_count": 6,
   "metadata": {},
   "outputs": [
    {
     "name": "stdout",
     "output_type": "stream",
     "text": [
      "The number of codons is 33.0\n"
     ]
    }
   ],
   "source": [
    "# PART 3: Calculate the number of codons in the given sequence (assuming it is all translated)?\n",
    "\n",
    "codon_count = (len(sequence)/3)  # Variable codon_count counts the number of codons\n",
    "print ('The number of codons is',codon_count)\n"
   ]
  },
  {
   "cell_type": "code",
   "execution_count": 7,
   "metadata": {},
   "outputs": [
    {
     "name": "stdout",
     "output_type": "stream",
     "text": [
      "False\n"
     ]
    }
   ],
   "source": [
    "# PART 4: Check whether the given sequence starts with Methionine.\n",
    "\n",
    "if sequence.startswith('AUG'): # The startswith() function is a built-in string function that returns true if the sequence starts with a methionine\n",
    "    print ('True')\n",
    "else:\n",
    "    print('False')\n"
   ]
  },
  {
   "cell_type": "code",
   "execution_count": 8,
   "metadata": {},
   "outputs": [
    {
     "name": "stdout",
     "output_type": "stream",
     "text": [
      "64.64646464646465\n"
     ]
    }
   ],
   "source": [
    "# PART 5: What is the GC content of this sequence? (fraction of G and C nucleotides)\n",
    "\n",
    "count_GC = 0\n",
    "for nucleotide in sequence:\n",
    "    '''Iterate through the sequence using for loop to count G and C nucleotides.\n",
    "    The Sum of GC nucleotides is divided by the length of the sequence & then multiplied by 100\n",
    "    The print function prints the GC content of the given sequence'''\n",
    "    if nucleotide == 'G'or nucleotide == 'C':\n",
    "        count_GC = count_GC + 1      # +, * and / are builtin python operators\n",
    "GC_content = (count_GC/len(sequence))*100\n",
    "print(GC_content)\n"
   ]
  },
  {
   "cell_type": "code",
   "execution_count": 9,
   "metadata": {},
   "outputs": [
    {
     "name": "stdout",
     "output_type": "stream",
     "text": [
      "True\n"
     ]
    }
   ],
   "source": [
    "# PART 6: Write an assertion statement to check if the sequence is a valid DNA sequence\n",
    "\n",
    "def validate_base_sequence(sequence):\n",
    "    '''checks nucleotides bases in the sequence\n",
    "    returns true if okay'''\n",
    "    return len(sequence) == (sequence.count('A')+ sequence.count('G')+ sequence.count('C')+ sequence.count('T')) # compare the length ofthe string\n",
    "result = validate_base_sequence(sequence)  #  calling the function validate_base_sequence()\n",
    "print(result)"
   ]
  },
  {
   "cell_type": "code",
   "execution_count": null,
   "metadata": {},
   "outputs": [],
   "source": []
  },
  {
   "cell_type": "code",
   "execution_count": null,
   "metadata": {},
   "outputs": [],
   "source": []
  },
  {
   "cell_type": "code",
   "execution_count": null,
   "metadata": {},
   "outputs": [],
   "source": []
  },
  {
   "cell_type": "code",
   "execution_count": null,
   "metadata": {},
   "outputs": [],
   "source": []
  },
  {
   "cell_type": "code",
   "execution_count": null,
   "metadata": {},
   "outputs": [],
   "source": []
  }
 ],
 "metadata": {
  "kernelspec": {
   "display_name": "Python 3",
   "language": "python",
   "name": "python3"
  },
  "language_info": {
   "codemirror_mode": {
    "name": "ipython",
    "version": 3
   },
   "file_extension": ".py",
   "mimetype": "text/x-python",
   "name": "python",
   "nbconvert_exporter": "python",
   "pygments_lexer": "ipython3",
   "version": "3.7.3"
  }
 },
 "nbformat": 4,
 "nbformat_minor": 2
}
